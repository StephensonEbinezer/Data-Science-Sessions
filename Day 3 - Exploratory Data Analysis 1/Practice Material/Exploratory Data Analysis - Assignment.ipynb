{
 "cells": [
  {
   "cell_type": "markdown",
   "metadata": {},
   "source": [
    "# Lets make our hands dirty\n",
    "\n",
    "We will try to practice the concepts we leart so far, nothing can be effective than **working on it, than hearing how to do it**\n",
    "\n",
    "## Practice Dataset - Predicting the hospital charges(Regression)\n",
    "\n",
    "Dataset availble at: https://raw.githubusercontent.com/StephensonEbinezer/Data-Science-Sessions/master/Day%203%20-%20Exploratory%20Data%20Analysis%201/hospital-charges.csv"
   ]
  },
  {
   "cell_type": "markdown",
   "metadata": {},
   "source": [
    "### Tasks to perform\n",
    "* Read the file and **print the top 5 records of the dataset**\n",
    "* How many **null values are there in the dataset columns**\n",
    "* Which **column has more null values** in the dataset\n",
    "* What are all the **Numerical columns**\n",
    "* What are all the **categorical columns**\n",
    "* Which **provider** in the dataset has **highest charges**\n",
    "* What is the **mean of the total cost** in the dataset?\n",
    "* plot the **average distibution of charges for every provider state**\n",
    "* Does **total Discharges** have impact on the **total payment cost**?\n",
    "* Which **continuos feature** has more **correlation with the target feature**?\n",
    "* How many **outliers** are there in the **Average Medicare Payments**?\n",
    "    "
   ]
  },
  {
   "cell_type": "code",
   "execution_count": 21,
   "metadata": {},
   "outputs": [],
   "source": [
    "#Start you journey\n"
   ]
  }
 ],
 "metadata": {
  "kernelspec": {
   "display_name": "Python 3",
   "language": "python",
   "name": "python3"
  },
  "language_info": {
   "codemirror_mode": {
    "name": "ipython",
    "version": 3
   },
   "file_extension": ".py",
   "mimetype": "text/x-python",
   "name": "python",
   "nbconvert_exporter": "python",
   "pygments_lexer": "ipython3",
   "version": "3.7.4"
  }
 },
 "nbformat": 4,
 "nbformat_minor": 4
}
